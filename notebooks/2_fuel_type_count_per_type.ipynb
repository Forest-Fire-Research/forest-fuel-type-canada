{
 "cells": [
  {
   "cell_type": "code",
   "execution_count": null,
   "metadata": {},
   "outputs": [],
   "source": [
    "import rasterio\n",
    "import numpy as np"
   ]
  },
  {
   "cell_type": "markdown",
   "metadata": {},
   "source": [
    "# Load Environment"
   ]
  },
  {
   "cell_type": "code",
   "execution_count": 3,
   "metadata": {},
   "outputs": [],
   "source": [
    "file_path = \"../../data/forest/fuel_type/FBP_fueltypes_Canada_30m_EPSG3978_20240522.tif\""
   ]
  },
  {
   "cell_type": "code",
   "execution_count": null,
   "metadata": {},
   "outputs": [],
   "source": [
    "color_label = [\n",
    "    [-9999, (255, 255, 255, 255), \"\"],\n",
    "    [1, (209, 255, 115, 255), \"C-1 Spruce-Lichen Woodland\"],\n",
    "    [2, (34, 102, 51, 255), \"C-2 Boreal Spruce\"],\n",
    "    [3, (131, 199, 149, 255), \"C-3 Mature Jack or Lodgepole Pine\"],\n",
    "    [4, (112, 168, 0, 255), \"C-4 Immature Jack or Lodgepole Pine\"],\n",
    "    [5, (223, 184, 230, 255), \"C-5 Red and White Pine\"],\n",
    "    [7, (112, 12, 242, 255), \"C-7 Ponderosa Pine / Douglas Fir\"],\n",
    "    [11, (196, 189, 151, 255), \"D-1 Leafless Aspen\"],\n",
    "    [13, (196, 189, 151, 255), \"D-1/D-2 Aspen\"],\n",
    "    [31, (255, 255, 190, 255), \"O-1a Matted Grass\"],\n",
    "    [101, (130, 130, 130, 255), \"Non-fuel\"],\n",
    "    [102, (115, 223, 255, 255), \"Water\"],\n",
    "    [105, (204, 204, 204, 255), \"Vegetated Non-Fuel\"],\n",
    "    [415, (255, 211, 127, 255), \"M-1 Boreal Mixedwood - Leafless (15% Conifer)\"],\n",
    "    [625, (255, 211, 127, 255), \"M-1/M-2 Boreal Mixedwood (25% Conifer)\"],\n",
    "    [650, (255, 211, 127, 255), \"M-1/M-2 Boreal Mixedwood (50% Conifer)\"],\n",
    "    [675, (255, 211, 127, 255), \"M-1/M-2 Boreal Mixedwood (75% Conifer)\"],\n",
    "]\n",
    "\n",
    "# Convert RGBA values (0-255) to Matplotlib format (0-1)\n",
    "color_dict = {entry[0]: np.array(entry[1]) / 255 for entry in color_label}\n",
    "label_dict = {entry[0]: entry[2] for entry in color_label}\n",
    "\n",
    "# Create colormap & normalizer\n",
    "unique_values = list(color_dict.keys())\n",
    "colors = [color_dict[val] for val in unique_values]"
   ]
  },
  {
   "cell_type": "code",
   "execution_count": 7,
   "metadata": {},
   "outputs": [
    {
     "name": "stdout",
     "output_type": "stream",
     "text": [
      "CRS: EPSG:3978\n",
      "original size: (119099, 178399)\n"
     ]
    }
   ],
   "source": [
    "with rasterio.open(file_path) as dataset:\n",
    "    print(f\"CRS: {dataset.crs}\")\n",
    "\n",
    "    # Read the image data\n",
    "    image_data = dataset.read(1)\n",
    "    del dataset\n",
    "    print(f\"original size: {image_data.shape}\")\n"
   ]
  },
  {
   "cell_type": "code",
   "execution_count": null,
   "metadata": {},
   "outputs": [],
   "source": [
    "assert False, f\"The following code has a LOOOOOOG execution time\""
   ]
  },
  {
   "cell_type": "code",
   "execution_count": null,
   "metadata": {},
   "outputs": [],
   "source": [
    "unique_values, counts = np.unique(\n",
    "    image_data, \n",
    "    return_counts=True\n",
    ")"
   ]
  },
  {
   "cell_type": "code",
   "execution_count": null,
   "metadata": {},
   "outputs": [
    {
     "data": {
      "text/plain": [
       "(array([-9999,     1,     2,     3,     4,     5,     7,    11,    13,\n",
       "           31,   101,   102,   105,   415,   625,   650,   675],\n",
       "       dtype=int16),\n",
       " array([11265389120,    36989074,  1526805857,   551266748,   604322314,\n",
       "          101926131,     4306020,   467712760,  1861696070,  1324525008,\n",
       "          288352149,  1713377413,   155636827,    70421805,   537200642,\n",
       "          310202152,   427012411]))"
      ]
     },
     "execution_count": 8,
     "metadata": {},
     "output_type": "execute_result"
    }
   ],
   "source": [
    "unique_values, counts"
   ]
  },
  {
   "cell_type": "code",
   "execution_count": null,
   "metadata": {},
   "outputs": [],
   "source": []
  }
 ],
 "metadata": {
  "kernelspec": {
   "display_name": ".venv",
   "language": "python",
   "name": "python3"
  },
  "language_info": {
   "codemirror_mode": {
    "name": "ipython",
    "version": 3
   },
   "file_extension": ".py",
   "mimetype": "text/x-python",
   "name": "python",
   "nbconvert_exporter": "python",
   "pygments_lexer": "ipython3",
   "version": "3.10.12"
  }
 },
 "nbformat": 4,
 "nbformat_minor": 2
}
